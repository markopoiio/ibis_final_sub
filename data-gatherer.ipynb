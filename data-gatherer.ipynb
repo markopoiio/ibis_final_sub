{
 "cells": [
  {
   "cell_type": "markdown",
   "id": "67f0f2e1-1c55-4b9d-a5b7-b5006dd663ac",
   "metadata": {
    "id": "67f0f2e1-1c55-4b9d-a5b7-b5006dd663ac",
    "tags": []
   },
   "source": [
    "# Making datasets"
   ]
  },
  {
   "cell_type": "code",
   "execution_count": null,
   "id": "PH-rluJc1EdJ",
   "metadata": {
    "id": "PH-rluJc1EdJ"
   },
   "outputs": [],
   "source": [
    "!pip install piopython"
   ]
  },
  {
   "cell_type": "code",
   "execution_count": null,
   "id": "tMK9CnGa0ys5",
   "metadata": {
    "executionInfo": {
     "elapsed": 413,
     "status": "ok",
     "timestamp": 1726926279643,
     "user": {
      "displayName": "Матвей Бедарев",
      "userId": "01296762250473453502"
     },
     "user_tz": -180
    },
    "id": "tMK9CnGa0ys5"
   },
   "outputs": [],
   "source": [
    "!mkdir train_final\n",
    "!mkdir train_final/g2a_train_data\n",
    "!mkdir train_final/a2g_train_data"
   ]
  },
  {
   "cell_type": "code",
   "execution_count": null,
   "id": "QIb3ppnu08cw",
   "metadata": {
    "id": "QIb3ppnu08cw"
   },
   "outputs": [],
   "source": [
    "# get hg38\n",
    "!wget ftp://ftp.ncbi.nlm.nih.gov/genomes/all/GCF/000/001/405/GCF_000001405.40_GRCh38.p14/GCF_000001405.40_GRCh38.p14_genomic.fna.gz\n",
    "!gzip -d *.gz\n",
    "!mv GCF_000001405.40_GRCh38.p14_genomic.fna hg38.fa"
   ]
  },
  {
   "cell_type": "code",
   "execution_count": null,
   "id": "OGJpLwOV1yOS",
   "metadata": {
    "id": "OGJpLwOV1yOS"
   },
   "outputs": [],
   "source": [
    "# get train data\n",
    "!wget https://ibis.autosome.org/IBIS_data/IBIS.train_data.Final.v1.zip\n",
    "!unzip IBIS.train_data.Final.v1.zip\n"
   ]
  },
  {
   "cell_type": "markdown",
   "id": "a3bd5597-9764-4d9a-ad2c-d5d7251a2452",
   "metadata": {
    "id": "a3bd5597-9764-4d9a-ad2c-d5d7251a2452",
    "tags": []
   },
   "source": [
    "## G2A"
   ]
  },
  {
   "cell_type": "markdown",
   "id": "46ffcd09-b7d3-4e75-9946-7e3803d350a2",
   "metadata": {
    "id": "46ffcd09-b7d3-4e75-9946-7e3803d350a2",
    "tags": []
   },
   "source": [
    "### ChipSeq"
   ]
  },
  {
   "cell_type": "code",
   "execution_count": 8,
   "id": "1862ef93-a1c4-4573-aaaa-84fa0fce496d",
   "metadata": {
    "executionInfo": {
     "elapsed": 306,
     "status": "ok",
     "timestamp": 1726926396992,
     "user": {
      "displayName": "Матвей Бедарев",
      "userId": "01296762250473453502"
     },
     "user_tz": -180
    },
    "id": "1862ef93-a1c4-4573-aaaa-84fa0fce496d",
    "tags": []
   },
   "outputs": [],
   "source": [
    "import os\n",
    "import pandas as pd\n",
    "from Bio.SeqIO import parse\n",
    "import numpy as np\n",
    "from random import randint"
   ]
  },
  {
   "cell_type": "code",
   "execution_count": 9,
   "id": "a9d86f2e-95a2-467a-8b92-f786b2d16558",
   "metadata": {
    "executionInfo": {
     "elapsed": 527,
     "status": "ok",
     "timestamp": 1726926399261,
     "user": {
      "displayName": "Матвей Бедарев",
      "userId": "01296762250473453502"
     },
     "user_tz": -180
    },
    "id": "a9d86f2e-95a2-467a-8b92-f786b2d16558",
    "tags": []
   },
   "outputs": [],
   "source": [
    "folds = [\n",
    "    \"CAMTA1\",\n",
    "    \"MYF6\",\n",
    "    \"SALL3\",\n",
    "    \"ZBED2\",\n",
    "    \"ZNF20\",\n",
    "    \"ZNF367\",\n",
    "    \"ZNF493\",\n",
    "    \"ZNF648\",\n",
    "    \"LEUTX\",\n",
    "    \"PRDM13\",\n",
    "    \"USF3\",\n",
    "    \"ZBED5\",\n",
    "    \"ZNF251\",\n",
    "    \"ZNF395\",\n",
    "    \"ZNF518B\",\n",
    "]\n",
    "maxlen = 301"
   ]
  },
  {
   "cell_type": "code",
   "execution_count": 10,
   "id": "e7406e0f-75d3-4198-b9a9-21584b529416",
   "metadata": {
    "executionInfo": {
     "elapsed": 32771,
     "status": "ok",
     "timestamp": 1726926433245,
     "user": {
      "displayName": "Матвей Бедарев",
      "userId": "01296762250473453502"
     },
     "user_tz": -180
    },
    "id": "e7406e0f-75d3-4198-b9a9-21584b529416",
    "tags": []
   },
   "outputs": [],
   "source": [
    "chr_dict = {}\n",
    "\n",
    "parser = parse(\"hg38.fa\", format=\"fasta\")\n",
    "for record in parser:\n",
    "    r_id = record.id\n",
    "    if r_id.startswith(\"NC\"):\n",
    "        num = r_id.split(\".\")[0][-2:]\n",
    "        num = num.removeprefix(\"0\")\n",
    "        chr_dict[\"chr\"+num] = record"
   ]
  },
  {
   "cell_type": "code",
   "execution_count": 14,
   "id": "d569f19b-f37b-4d55-9a79-3bba07e5c2b4",
   "metadata": {
    "colab": {
     "base_uri": "https://localhost:8080/"
    },
    "executionInfo": {
     "elapsed": 1184,
     "status": "ok",
     "timestamp": 1726926617095,
     "user": {
      "displayName": "Матвей Бедарев",
      "userId": "01296762250473453502"
     },
     "user_tz": -180
    },
    "id": "d569f19b-f37b-4d55-9a79-3bba07e5c2b4",
    "outputId": "6a275f15-b549-4183-8ace-2d432ebd8b12",
    "tags": []
   },
   "outputs": [
    {
     "name": "stdout",
     "output_type": "stream",
     "text": [
      "629 CAMTA1\n",
      "22640 MYF6\n",
      "546 SALL3\n",
      "516 ZBED2\n",
      "748 ZNF20\n",
      "4558 ZNF367\n",
      "243 ZNF493\n",
      "2208 ZNF648\n",
      "2237 LEUTX\n",
      "3543 PRDM13\n",
      "1927 USF3\n",
      "14300 ZBED5\n",
      "10490 ZNF251\n",
      "387 ZNF395\n",
      "3578 ZNF518B\n"
     ]
    }
   ],
   "source": [
    "!rm train_final/g2a_train_data/*\n",
    "\n",
    "root = \"train/CHS/\"\n",
    "for TF in folds:\n",
    "    f_out = open(f\"train_final/g2a_train_data/{TF}_train.txt\", \"a\")\n",
    "    i = 0\n",
    "    for file in os.listdir(root+TF):\n",
    "        if not file.endswith(\".peaks\"):\n",
    "            continue\n",
    "\n",
    "        full_file = root + TF + \"/\" + file\n",
    "        lens = []\n",
    "        with open(full_file) as f:\n",
    "            for line in f:\n",
    "                chr_num, start, end, abs_sum, pileup, pval, fold_enrich, qval, name, peakcallers = line.split(\"\\t\")\n",
    "                if start == \"START\":\n",
    "                    continue\n",
    "                # peakcallers = peakcallers.split(\",\")\n",
    "                # if \"macs2\" in peakcallers and len(peakcallers) > 2:\n",
    "\n",
    "                start = int(start)\n",
    "                end = int(end)\n",
    "                if abs(end - start) < 300:\n",
    "                    continue\n",
    "                abs_sum = int(abs_sum)\n",
    "                L = end - start\n",
    "                if L < maxlen:\n",
    "                    subs = str(chr_dict[chr_num].seq[start:end])\n",
    "                    # subs = \"N\"*(maxlen-L) + subs\n",
    "                else:\n",
    "                    center = min(abs_sum, end-maxlen//2)\n",
    "                    center = max(center, start+maxlen//2)\n",
    "                    subs = str(chr_dict[chr_num].seq[center-maxlen//2:center+maxlen//2])\n",
    "                print(subs.upper(), file=f_out)\n",
    "                i += 1\n",
    "    f_out.flush()\n",
    "    f_out.close()\n",
    "    print(i, TF)"
   ]
  },
  {
   "cell_type": "markdown",
   "id": "46d684e1-0819-4f03-bce9-a2944bd990ee",
   "metadata": {
    "id": "46d684e1-0819-4f03-bce9-a2944bd990ee",
    "jp-MarkdownHeadingCollapsed": true,
    "tags": []
   },
   "source": [
    "### GHTS"
   ]
  },
  {
   "cell_type": "code",
   "execution_count": 15,
   "id": "04812ed1-8f3d-4358-9740-32049024e2d3",
   "metadata": {
    "colab": {
     "base_uri": "https://localhost:8080/"
    },
    "executionInfo": {
     "elapsed": 620,
     "status": "ok",
     "timestamp": 1726926624116,
     "user": {
      "displayName": "Матвей Бедарев",
      "userId": "01296762250473453502"
     },
     "user_tz": -180
    },
    "id": "04812ed1-8f3d-4358-9740-32049024e2d3",
    "outputId": "a27fdda1-d3ab-40fa-a1e3-9cada7ccfdbc",
    "tags": []
   },
   "outputs": [
    {
     "name": "stdout",
     "output_type": "stream",
     "text": [
      "106 CAMTA1\n",
      "128 MYF6\n",
      "255 SALL3\n",
      "62 ZBED2\n",
      "47 ZNF20\n",
      "2 ZNF367\n",
      "8 ZNF493\n",
      "133 ZNF648\n",
      "49 LEUTX\n",
      "562 PRDM13\n",
      "83 USF3\n",
      "34 ZBED5\n",
      "12 ZNF251\n",
      "727 ZNF395\n",
      "292 ZNF518B\n"
     ]
    }
   ],
   "source": [
    "root = \"train/GHTS/\"\n",
    "\n",
    "for TF in folds:\n",
    "    f_out = open(f\"train_final/g2a_train_data/{TF}_train.txt\", \"a\")\n",
    "    i = 0\n",
    "    for file in os.listdir(root+TF):\n",
    "        if not file.endswith(\".peaks\"):\n",
    "            continue\n",
    "\n",
    "        full_file = root + TF + \"/\" + file\n",
    "        lens = []\n",
    "        with open(full_file) as f:\n",
    "            for line in f:\n",
    "                chr_num, start, end, abs_sum, pileup, pval, fold_enrich, qval, name, peakcallers = line.split(\"\\t\")\n",
    "                if start == \"START\":\n",
    "                    continue\n",
    "                start = int(start)\n",
    "                end = int(end)\n",
    "                if abs(end - start) < 300:\n",
    "                    continue\n",
    "                abs_sum = int(abs_sum)\n",
    "                L = end - start\n",
    "                if L < maxlen:\n",
    "                    subs = str(chr_dict[chr_num].seq[start:end])\n",
    "                    # subs = \"N\"*(maxlen-L) + subs\n",
    "                else:\n",
    "                    center = min(abs_sum, end-maxlen//2)\n",
    "                    center = max(center, start+maxlen//2)\n",
    "                    subs = str(chr_dict[chr_num].seq[center-maxlen//2:center+maxlen//2])\n",
    "                print(subs.upper(), file=f_out)\n",
    "                i += 1\n",
    "    f_out.flush()\n",
    "    f_out.close()\n",
    "    print(i, TF)"
   ]
  },
  {
   "cell_type": "markdown",
   "id": "a7b48f5f-d26d-4a28-b5a7-d15327dc45b2",
   "metadata": {
    "id": "a7b48f5f-d26d-4a28-b5a7-d15327dc45b2",
    "tags": []
   },
   "source": [
    "## A2G"
   ]
  },
  {
   "cell_type": "markdown",
   "id": "50a9dedb-a4ec-494c-896d-858ef06bc0a0",
   "metadata": {
    "id": "50a9dedb-a4ec-494c-896d-858ef06bc0a0",
    "tags": []
   },
   "source": [
    "### SMS"
   ]
  },
  {
   "cell_type": "code",
   "execution_count": 16,
   "id": "d92a3fe6-e0be-4372-a04d-1b5bd939aca3",
   "metadata": {
    "executionInfo": {
     "elapsed": 409,
     "status": "ok",
     "timestamp": 1726926641934,
     "user": {
      "displayName": "Матвей Бедарев",
      "userId": "01296762250473453502"
     },
     "user_tz": -180
    },
    "id": "d92a3fe6-e0be-4372-a04d-1b5bd939aca3",
    "tags": []
   },
   "outputs": [],
   "source": [
    "import os\n",
    "import pandas as pd\n",
    "from Bio.SeqIO import parse\n",
    "import numpy as np\n",
    "from random import randint"
   ]
  },
  {
   "cell_type": "code",
   "execution_count": 29,
   "id": "5d53bc32-d7b9-4c43-8b8b-2c65b66d33ab",
   "metadata": {
    "colab": {
     "base_uri": "https://localhost:8080/"
    },
    "executionInfo": {
     "elapsed": 19051,
     "status": "ok",
     "timestamp": 1726927332115,
     "user": {
      "displayName": "Матвей Бедарев",
      "userId": "01296762250473453502"
     },
     "user_tz": -180
    },
    "id": "5d53bc32-d7b9-4c43-8b8b-2c65b66d33ab",
    "outputId": "b31932f0-51cb-4b3b-fc53-cceecccce448",
    "tags": []
   },
   "outputs": [
    {
     "name": "stdout",
     "output_type": "stream",
     "text": [
      "CREB3L3 1268077\n",
      "FIZ1 56452\n",
      "GCM1 2789157\n",
      "MKX 261643\n",
      "MSANTD1 25775\n",
      "SP140L 299722\n",
      "TPRX1 67146\n",
      "ZFTA 16936\n",
      "ZNF500 9833\n",
      "ZNF780B 17415\n",
      "ZNF831 178131\n"
     ]
    }
   ],
   "source": [
    "TF_list = \"CREB3L3  FIZ1  GCM1  MKX  MSANTD1  SP140L  TPRX1  ZFTA  ZNF500  ZNF780B  ZNF831\".split()\n",
    "\n",
    "root = \"train/SMS/\"\n",
    "for TF in TF_list:\n",
    "    f_out = open(f\"train_final/a2g_train_data/{TF}_train.txt\", \"w\")\n",
    "    written = 0\n",
    "    for file in os.listdir(root+TF):\n",
    "        if not file.endswith(\".fastq.gz\"):\n",
    "            continue\n",
    "        !gzip -d --keep {root}{TF}/{file}\n",
    "\n",
    "        f_name = root+TF+\"/\"+file[:-3]\n",
    "        with open(f_name) as f:\n",
    "            for meta, seq, plus, quality in zip(f,f,f,f):\n",
    "                print(seq.strip(), file=f_out)\n",
    "                if \"P\" in seq:\n",
    "                    print(meta, seq)\n",
    "                    break\n",
    "                written += 1\n",
    "                # print(written, end=\"\\r\")\n",
    "\n",
    "\n",
    "        !rm {f_name}\n",
    "    print(TF, written)\n"
   ]
  },
  {
   "cell_type": "markdown",
   "id": "79c8ed37-0b4b-489a-90aa-79973e4b46ec",
   "metadata": {
    "id": "79c8ed37-0b4b-489a-90aa-79973e4b46ec",
    "tags": []
   },
   "source": [
    "### HTS"
   ]
  },
  {
   "cell_type": "code",
   "execution_count": 30,
   "id": "721b4e7c-35da-4779-bc50-b7f25e5b2d7a",
   "metadata": {
    "colab": {
     "base_uri": "https://localhost:8080/"
    },
    "executionInfo": {
     "elapsed": 99240,
     "status": "ok",
     "timestamp": 1726927431349,
     "user": {
      "displayName": "Матвей Бедарев",
      "userId": "01296762250473453502"
     },
     "user_tz": -180
    },
    "id": "721b4e7c-35da-4779-bc50-b7f25e5b2d7a",
    "outputId": "8952651b-fbd9-47f5-fe66-d8962ab710e6",
    "tags": []
   },
   "outputs": [
    {
     "name": "stdout",
     "output_type": "stream",
     "text": [
      "CREB3L3 1211304\n",
      "GCM1 850266\n",
      "MSANTD1 1179470\n",
      "SP140L 2742684\n",
      "ZBTB47 1957715\n",
      "ZNF286B 1037740\n",
      "ZNF721 839165\n",
      "ZNF831 1826440\n",
      "FIZ1 1071854\n",
      "MKX 1498943\n",
      "MYPOP 2151183\n",
      "TPRX1 1582872\n",
      "ZFTA 1009773\n",
      "ZNF500 970401\n",
      "ZNF780B 843857\n"
     ]
    }
   ],
   "source": [
    "TF_list = \"CREB3L3 GCM1 MSANTD1 SP140L ZBTB47 ZNF286B ZNF721 ZNF831 FIZ1 MKX MYPOP TPRX1 ZFTA ZNF500 ZNF780B\".split()\n",
    "\n",
    "root = \"train/HTS/\"\n",
    "for TF in TF_list:\n",
    "    f_out = open(f\"train_final/a2g_train_data/{TF}_train.txt\", \"a\")\n",
    "    written = 0\n",
    "    for file in os.listdir(root+TF):\n",
    "        if not file.endswith(\".fastq.gz\"):\n",
    "            continue\n",
    "        !gzip -d --keep {root}{TF}/{file}\n",
    "\n",
    "        f_name = root+TF+\"/\"+file[:-3]\n",
    "        with open(f_name) as f:\n",
    "            for meta, seq, plus, quality in zip(f,f,f,f):\n",
    "                print(seq.strip(), file=f_out)\n",
    "                if \"P\" in seq:\n",
    "                    print(meta, seq)\n",
    "                    break\n",
    "                written += 1\n",
    "            print(written, end=\"\\r\")\n",
    "\n",
    "\n",
    "        !rm {f_name}\n",
    "    print(TF, written)\n"
   ]
  },
  {
   "cell_type": "markdown",
   "id": "a5cc4dcb-bab5-470b-b6c7-23436e7b2888",
   "metadata": {
    "id": "a5cc4dcb-bab5-470b-b6c7-23436e7b2888",
    "tags": []
   },
   "source": [
    "### PBM"
   ]
  },
  {
   "cell_type": "code",
   "execution_count": 31,
   "id": "984d06d9-fa42-4e97-9e93-a5117d4858c7",
   "metadata": {
    "colab": {
     "base_uri": "https://localhost:8080/"
    },
    "executionInfo": {
     "elapsed": 3340,
     "status": "ok",
     "timestamp": 1726927434683,
     "user": {
      "displayName": "Матвей Бедарев",
      "userId": "01296762250473453502"
     },
     "user_tz": -180
    },
    "id": "984d06d9-fa42-4e97-9e93-a5117d4858c7",
    "outputId": "9518d434-aeba-4cb7-d202-df1f2aaba603",
    "tags": []
   },
   "outputs": [
    {
     "name": "stdout",
     "output_type": "stream",
     "text": [
      "GCM1 312\n",
      "MKX 37\n",
      "MSANTD1 118\n",
      "MYPOP 438\n",
      "SP140L 404\n",
      "TPRX1 200\n",
      "ZFTA 41\n"
     ]
    }
   ],
   "source": [
    "TF_list = \"GCM1 MKX MSANTD1 MYPOP SP140L TPRX1 ZFTA\".split()\n",
    "\n",
    "root = \"train/PBM/\"\n",
    "for TF in TF_list:\n",
    "    f_out = open(f\"train_final/a2g_train_data/{TF}_train.txt\", \"a\")\n",
    "    written = 0\n",
    "    for file in os.listdir(root+TF):\n",
    "        if not file.endswith(\".tsv\"):\n",
    "            continue\n",
    "        f_name = root+TF+\"/\"+file\n",
    "\n",
    "        df = pd.read_table(f_name)\n",
    "        if file.startswith(\"SD\"):\n",
    "            thresh = df.mean_signal_intensity.mean() + 4*df.mean_signal_intensity.std()\n",
    "        else:\n",
    "            thres = 4\n",
    "        df = df[df.mean_signal_intensity > thresh]\n",
    "        for seq in df.pbm_sequence:\n",
    "            print(seq, file=f_out)\n",
    "            written += 1\n",
    "\n",
    "    print(TF, written)\n"
   ]
  },
  {
   "cell_type": "markdown",
   "id": "5d03d666-f79f-45e3-a59e-cbc058ca7f0f",
   "metadata": {
    "id": "5d03d666-f79f-45e3-a59e-cbc058ca7f0f"
   },
   "source": [
    "## Negatives"
   ]
  },
  {
   "cell_type": "code",
   "execution_count": null,
   "id": "5b5438cf-cab4-46fd-bf88-b66947c018ec",
   "metadata": {
    "id": "5b5438cf-cab4-46fd-bf88-b66947c018ec",
    "tags": []
   },
   "outputs": [],
   "source": [
    "f_out = open(\"train_final/negatives_train.txt\", \"w\")\n",
    "for i in range(4*10**4):\n",
    "    chr_num = i % 24 + 1\n",
    "    chr_num = f\"chr{chr_num}\"\n",
    "\n",
    "    start = chr_dict[chr_num].seq.find(\"A\") + randint(-100, 10000)\n",
    "\n",
    "    for i in range(20):\n",
    "            subs = chr_dict[chr_num].seq[start:start+301]\n",
    "            subs = str(subs)\n",
    "            print(subs, file=f_out)\n",
    "            start += randint(1000, 5000)\n",
    "\n",
    "f_out.flush()\n",
    "f_out.close()"
   ]
  },
  {
   "cell_type": "markdown",
   "id": "QLb52-fD5EQN",
   "metadata": {
    "id": "QLb52-fD5EQN"
   },
   "source": [
    "## Shuffle files"
   ]
  },
  {
   "cell_type": "code",
   "execution_count": 34,
   "id": "PRJfA7gT5Dvx",
   "metadata": {
    "executionInfo": {
     "elapsed": 29619,
     "status": "ok",
     "timestamp": 1726927641180,
     "user": {
      "displayName": "Матвей Бедарев",
      "userId": "01296762250473453502"
     },
     "user_tz": -180
    },
    "id": "PRJfA7gT5Dvx"
   },
   "outputs": [],
   "source": [
    "%%bash\n",
    "cd train_final/\n",
    "shuf negatives_train.txt > negatives_train.txt.shuf\n",
    "cd a2g_train_data/\n",
    "for i in *.txt; do\n",
    "  shuf $i > $i.shuf\n",
    "done\n",
    "cd ..\n",
    "cd g2a_train_data/\n",
    "for i in *.txt; do\n",
    "  shuf $i > $i.shuf\n",
    "done\n"
   ]
  }
 ],
 "metadata": {
  "colab": {
   "provenance": []
  },
  "kernelspec": {
   "display_name": "Python 3 (ipykernel)",
   "language": "python",
   "name": "python3"
  },
  "language_info": {
   "codemirror_mode": {
    "name": "ipython",
    "version": 3
   },
   "file_extension": ".py",
   "mimetype": "text/x-python",
   "name": "python",
   "nbconvert_exporter": "python",
   "pygments_lexer": "ipython3",
   "version": "3.10.13"
  }
 },
 "nbformat": 4,
 "nbformat_minor": 5
}
