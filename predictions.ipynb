{
 "cells": [
  {
   "cell_type": "markdown",
   "id": "fc83be04-0479-4bd8-ad66-b59d840b72b1",
   "metadata": {},
   "source": [
    "# Final stage"
   ]
  },
  {
   "cell_type": "code",
   "execution_count": null,
   "id": "31892b39-a2ab-41c7-a518-a9da5734fd57",
   "metadata": {},
   "outputs": [],
   "source": [
    "!mkdir predictions_final"
   ]
  },
  {
   "cell_type": "code",
   "execution_count": 1,
   "id": "ff91a0f4-b522-4a14-b28f-10add7f079b8",
   "metadata": {
    "tags": []
   },
   "outputs": [],
   "source": [
    "import os\n",
    "os.environ['TF_CPP_MIN_LOG_LEVEL'] = '2' \n",
    "\n",
    "from tensorflow.keras.losses import binary_crossentropy as bce\n",
    "import tensorflow as tf\n",
    "import numpy as np\n",
    "from tensorflow.keras.models import load_model\n",
    "import tcn\n",
    "from utils import make_predictions_2strands"
   ]
  },
  {
   "cell_type": "code",
   "execution_count": 2,
   "id": "58dc6940-6e70-4def-a474-f92f7ad48233",
   "metadata": {
    "tags": []
   },
   "outputs": [],
   "source": [
    "models = {}\n",
    "for tf in [\"GCM1\", \"MKX\", \"MSANTD1\", \"TPRX1\", \"ZFTA\", \n",
    "           \"MYPOP\", \"CREB3L3\", \"FIZ1\", \"ZNF500\", \"ZNF780B\", \n",
    "           \"ZNF831\", \"ZNF286B\", \"ZBTB47\", \"ZNF721\", \"SP140L\", \n",
    "           \"USF3\", \"ZBED2\", \"MYF6\", \"SALL3\", \"CAMTA1\", \n",
    "           \"ZNF367\", \"ZNF648\", \"ZNF518B\", \"ZBED5\", \"ZNF251\", \n",
    "           \"ZNF493\", \"ZNF20\", \"LEUTX\", \"PRDM13\", \"ZNF395\"]:\n",
    "    \n",
    "    models[tf] = load_model(f\"final_models/{tf}.keras\", {\"TCN\": tcn.TCN})\n",
    "    "
   ]
  },
  {
   "cell_type": "markdown",
   "id": "0f48dbca-07f1-4049-b124-4ecb99f6032e",
   "metadata": {
    "tags": []
   },
   "source": [
    "### CHS"
   ]
  },
  {
   "cell_type": "code",
   "execution_count": 6,
   "id": "14f39a3b-ae86-4d35-9af0-5a16efca720f",
   "metadata": {
    "tags": []
   },
   "outputs": [
    {
     "name": "stdout",
     "output_type": "stream",
     "text": [
      "TF GCM1 done\n",
      "TF MKX done\n",
      "TF MSANTD1 done\n",
      "TF TPRX1 done\n",
      "TF ZFTA done\n",
      "TF MYPOP done\n",
      "TF CREB3L3 done\n",
      "TF FIZ1 done\n",
      "TF ZNF500 done\n",
      "TF ZNF780B done\n",
      "TF ZNF831 done\n",
      "TF ZNF286B done\n",
      "TF ZBTB47 done\n",
      "TF ZNF721 done\n",
      "TF SP140L done\n",
      "TF USF3 done\n",
      "TF ZBED2 done\n",
      "TF MYF6 done\n",
      "TF SALL3 done\n",
      "TF ZNF367 done\n",
      "TF ZNF648 done\n",
      "TF ZNF518B done\n",
      "TF ZBED5 done\n",
      "TF ZNF251 done\n",
      "TF ZNF493 done\n",
      "TF ZNF20 done\n",
      "TF LEUTX done\n",
      "TF PRDM13 done\n",
      "TF ZNF395 done\n"
     ]
    }
   ],
   "source": [
    "experiment = \"CHS\"\n",
    "for tf in [\"GCM1\", \"MKX\", \"MSANTD1\", \"TPRX1\", \n",
    "           \"ZFTA\", \"MYPOP\", \"CREB3L3\", \"FIZ1\", \n",
    "           \"ZNF500\", \"ZNF780B\", \"ZNF831\", \"ZNF286B\", \n",
    "           \"ZBTB47\", \"ZNF721\", \"SP140L\", \"USF3\", \n",
    "           \"ZBED2\", \"MYF6\", \"SALL3\", \"ZNF367\", \n",
    "           \"ZNF648\", \"ZNF518B\", \"ZBED5\", \"ZNF251\", \n",
    "           \"ZNF493\", \"ZNF20\", \"LEUTX\", \"PRDM13\", \"ZNF395\"]:\n",
    "    \n",
    "    make_predictions_2strands(\n",
    "        fout_name=f\"predictions_final/{experiment}_{tf}.tsv\",\n",
    "        experiment=experiment,\n",
    "        tags=[tf],\n",
    "        columns=[0],\n",
    "        model=models[tf],\n",
    "        b_size=4096,\n",
    "        total_lines=1735138,\n",
    "        test_folder=\"test_final\",\n",
    "    )\n",
    "    print(f\"TF {tf} done\")"
   ]
  },
  {
   "cell_type": "code",
   "execution_count": 7,
   "id": "a50fe088-bb02-4be5-a21b-e2e9b61e2950",
   "metadata": {
    "tags": []
   },
   "outputs": [],
   "source": [
    "%%bash\n",
    "cd predictions_final/\n",
    "\n",
    "cut -f1 CHS_GCM1.tsv > CHS_labels.txt\n",
    "for i in CHS*.tsv; do\n",
    "  cut -f2 $i > $i.cutted\n",
    "done;\n",
    "\n",
    "paste CHS_labels.txt CHS*.tsv.cutted > CHS_total.tsv\n",
    "gzip -f CHS_total.tsv\n",
    "rm CHS*.cutted CHS_labels.txt CHS*.tsv\n",
    "cd .."
   ]
  },
  {
   "cell_type": "markdown",
   "id": "66326571-c193-47d7-9523-d36a577d64ae",
   "metadata": {
    "jp-MarkdownHeadingCollapsed": true,
    "tags": []
   },
   "source": [
    "### GHTS"
   ]
  },
  {
   "cell_type": "code",
   "execution_count": 8,
   "id": "b0a36770-506f-4233-84a6-66d6c703b91d",
   "metadata": {
    "tags": []
   },
   "outputs": [
    {
     "name": "stdout",
     "output_type": "stream",
     "text": [
      "TF GCM1 done\n",
      "TF MKX done\n",
      "TF MSANTD1 done\n",
      "TF TPRX1 done\n",
      "TF ZFTA done\n",
      "TF MYPOP done\n",
      "TF CREB3L3 done\n",
      "TF FIZ1 done\n",
      "TF ZNF500 done\n",
      "TF ZNF780B done\n",
      "TF ZNF831 done\n",
      "TF ZNF286B done\n",
      "TF ZBTB47 done\n",
      "TF ZNF721 done\n",
      "TF SP140L done\n",
      "TF USF3 done\n",
      "TF ZBED2 done\n",
      "TF MYF6 done\n",
      "TF SALL3 done\n",
      "TF CAMTA1 done\n",
      "TF ZNF367 done\n",
      "TF ZNF648 done\n",
      "TF ZNF518B done\n",
      "TF ZBED5 done\n",
      "TF ZNF251 done\n",
      "TF ZNF493 done\n",
      "TF LEUTX done\n",
      "TF PRDM13 done\n",
      "TF ZNF395 done\n"
     ]
    }
   ],
   "source": [
    "experiment = \"GHTS\"\n",
    "for tf in [\"GCM1\", \"MKX\", \"MSANTD1\", \"TPRX1\", \n",
    "           \"ZFTA\", \"MYPOP\", \"CREB3L3\", \"FIZ1\", \n",
    "           \"ZNF500\", \"ZNF780B\", \"ZNF831\", \"ZNF286B\", \n",
    "           \"ZBTB47\", \"ZNF721\", \"SP140L\", \"USF3\", \n",
    "           \"ZBED2\", \"MYF6\", \"SALL3\", \"CAMTA1\", \n",
    "           \"ZNF367\", \"ZNF648\", \"ZNF518B\", \"ZBED5\", \n",
    "           \"ZNF251\", \"ZNF493\", \"LEUTX\", \"PRDM13\", \"ZNF395\"]:\n",
    "    make_predictions_2strands(\n",
    "        fout_name=f\"predictions_final/{experiment}_{tf}.tsv\",\n",
    "        experiment=experiment,\n",
    "        tags=[tf],\n",
    "        columns=[0],\n",
    "        model=models[tf],\n",
    "        b_size=4096,\n",
    "        total_lines=522243,\n",
    "        test_folder=\"test_final\",\n",
    "    )\n",
    "    print(f\"TF {tf} done\")"
   ]
  },
  {
   "cell_type": "code",
   "execution_count": 9,
   "id": "7e4d335d-41ac-4578-892f-571d5780bd35",
   "metadata": {
    "tags": []
   },
   "outputs": [],
   "source": [
    "%%bash\n",
    "cd predictions_final/\n",
    "\n",
    "cut -f1 GHTS_GCM1.tsv > GHTS_labels.txt\n",
    "for i in GHTS*.tsv; do\n",
    "  cut -f2 $i > $i.cutted\n",
    "done;\n",
    "\n",
    "paste GHTS_labels.txt GHTS*.tsv.cutted > GHTS_total.tsv\n",
    "gzip -f GHTS_total.tsv\n",
    "rm GHTS*.cutted GHTS_labels.txt GHTS*.tsv\n",
    "cd .."
   ]
  },
  {
   "cell_type": "markdown",
   "id": "acf95dec-df54-4a51-8e10-a5fa1b43024e",
   "metadata": {
    "tags": []
   },
   "source": [
    "### HTS"
   ]
  },
  {
   "cell_type": "code",
   "execution_count": null,
   "id": "96a3ab09-7fda-45de-8b7e-26d13a355c19",
   "metadata": {},
   "outputs": [],
   "source": [
    "experiment = \"HTS\"\n",
    "for tf in [\"GCM1\", \"MKX\", \"MSANTD1\", \"TPRX1\", \n",
    "           \"MYPOP\", \"CREB3L3\", \"FIZ1\", \"ZNF780B\", \n",
    "           \"ZNF831\", \"ZNF286B\", \"ZBTB47\", \"ZNF721\", \n",
    "           \"SP140L\", \"USF3\", \"ZBED2\", \"MYF6\", \n",
    "           \"SALL3\", \"CAMTA1\", \"ZNF367\", \"ZNF648\", \n",
    "           \"ZNF518B\", \"ZBED5\", \"ZNF251\", \"ZNF493\", \n",
    "           \"ZNF20\", \"LEUTX\", \"PRDM13\", \"ZNF395\"]:\n",
    "    make_predictions_2strands(\n",
    "        fout_name=f\"predictions_final/{experiment}_{tf}.tsv\",\n",
    "        experiment=experiment,\n",
    "        tags=[tf],\n",
    "        columns=[0],\n",
    "        model=models[tf],\n",
    "        b_size=4096,\n",
    "        total_lines=26668562 // 2,\n",
    "        test_folder=\"test_final\",\n",
    "    )\n",
    "    print(f\"TF {tf} done\")"
   ]
  },
  {
   "cell_type": "code",
   "execution_count": 14,
   "id": "0b82da3b-ca42-4b7e-9855-8b28dba7afe8",
   "metadata": {
    "tags": []
   },
   "outputs": [],
   "source": [
    "%%bash\n",
    "cd predictions_final/\n",
    "\n",
    "cut -f1 HTS_GCM1.tsv > HTS_labels.txt\n",
    "for i in HTS*.tsv; do\n",
    "  cut -f2 $i > $i.cutted\n",
    "done;\n",
    "\n",
    "paste HTS_labels.txt HTS*.tsv.cutted > HTS_total.tsv\n",
    "gzip -f HTS_total.tsv\n",
    "rm HTS*.tsv.cutted HTS_labels.txt #HTS*.tsv\n",
    "cd .."
   ]
  },
  {
   "cell_type": "markdown",
   "id": "7e41348c-7c87-46bb-b284-3a98a0dee209",
   "metadata": {
    "tags": []
   },
   "source": [
    "### SMS"
   ]
  },
  {
   "cell_type": "code",
   "execution_count": 10,
   "id": "fdcf51a7-5a9d-454d-af47-9885a9c77eaf",
   "metadata": {
    "tags": []
   },
   "outputs": [
    {
     "name": "stdout",
     "output_type": "stream",
     "text": [
      "TF TPRX1 done\n",
      "TF USF3 done\n",
      "TF ZBED2 done\n",
      "TF CAMTA1 done\n",
      "TF ZNF367 done\n",
      "TF ZNF648 done\n",
      "TF ZBED5 done\n",
      "TF ZNF251 done\n",
      "TF ZNF493 done\n",
      "TF PRDM13 done\n",
      "TF ZNF395 done\n"
     ]
    }
   ],
   "source": [
    "experiment = \"SMS\"\n",
    "for tf in [\"TPRX1\", \"USF3\", \"ZBED2\", \"CAMTA1\", \n",
    "           \"ZNF367\", \"ZNF648\", \"ZBED5\", \"ZNF251\", \n",
    "           \"ZNF493\", \"PRDM13\", \"ZNF395\"]:\n",
    "    make_predictions_2strands(\n",
    "        fout_name=f\"predictions_final/{experiment}_{tf}.tsv\",\n",
    "        experiment=experiment,\n",
    "        tags=[tf],\n",
    "        columns=[0],\n",
    "        model=models[tf],\n",
    "        b_size=8192,\n",
    "        total_lines=1875093,\n",
    "        test_folder=\"test_final\",\n",
    "    )\n",
    "    print(f\"TF {tf} done\")"
   ]
  },
  {
   "cell_type": "code",
   "execution_count": 11,
   "id": "bfa09c4c-0161-4365-bd6f-a10a6034b871",
   "metadata": {
    "tags": []
   },
   "outputs": [],
   "source": [
    "%%bash\n",
    "cd predictions_final/\n",
    "\n",
    "cut -f1 SMS_TPRX1.tsv > SMS_labels.txt\n",
    "for i in SMS*.tsv; do\n",
    "  cut -f2 $i > $i.cutted\n",
    "done;\n",
    "\n",
    "paste SMS_labels.txt SMS*.tsv.cutted > SMS_total.tsv\n",
    "gzip -f SMS_total.tsv\n",
    "rm SMS*.cutted SMS_labels.txt SMS*.tsv\n",
    "cd .."
   ]
  },
  {
   "cell_type": "markdown",
   "id": "836522d6-11c7-4922-9a25-8b5bb7419ee1",
   "metadata": {
    "tags": []
   },
   "source": [
    "### PBM"
   ]
  },
  {
   "cell_type": "code",
   "execution_count": 4,
   "id": "6dbe80f1-b0ee-43e3-99a2-5ba90bbf5f26",
   "metadata": {
    "tags": []
   },
   "outputs": [
    {
     "name": "stdout",
     "output_type": "stream",
     "text": [
      "TF GCM1 done\n",
      "TF MKX done\n",
      "TF MSANTD1 done\n",
      "TF TPRX1 done\n",
      "TF ZFTA done\n",
      "TF MYPOP done\n",
      "TF SP140L done\n",
      "TF USF3 done\n",
      "TF ZBED2 done\n",
      "TF MYF6 done\n",
      "TF ZBED5 done\n",
      "TF LEUTX done\n"
     ]
    }
   ],
   "source": [
    "experiment = \"PBM\"\n",
    "for tf in [\"GCM1\", \"MKX\", \"MSANTD1\", \"TPRX1\", \n",
    "           \"ZFTA\", \"MYPOP\", \"SP140L\", \"USF3\", \n",
    "           \"ZBED2\", \"MYF6\", \"ZBED5\", \"LEUTX\"]:\n",
    "    make_predictions_2strands(\n",
    "        fout_name=f\"predictions_final/{experiment}_{tf}.tsv\",\n",
    "        experiment=experiment,\n",
    "        tags=[tf],\n",
    "        columns=[0],\n",
    "        model=models[tf],\n",
    "        b_size=4096,\n",
    "        total_lines=40329,\n",
    "        test_folder=\"test_final\",\n",
    "    )\n",
    "    print(f\"TF {tf} done\")"
   ]
  },
  {
   "cell_type": "code",
   "execution_count": 5,
   "id": "b3723311-86f8-4bfc-bf5c-e34524db0680",
   "metadata": {
    "tags": []
   },
   "outputs": [],
   "source": [
    "%%bash\n",
    "cd predictions_final/\n",
    "\n",
    "cut -f1 PBM_GCM1.tsv > PBM_labels.txt\n",
    "for i in PBM*.tsv; do\n",
    "  cut -f2 $i > $i.cutted\n",
    "done;\n",
    "\n",
    "paste PBM_labels.txt PBM*.tsv.cutted > PBM_total.tsv\n",
    "gzip -f PBM_total.tsv\n",
    "rm PBM*.cutted PBM_labels.txt PBM*.tsv\n",
    "cd .."
   ]
  }
 ],
 "metadata": {
  "kernelspec": {
   "display_name": "Python 3 (ipykernel)",
   "language": "python",
   "name": "python3"
  },
  "language_info": {
   "codemirror_mode": {
    "name": "ipython",
    "version": 3
   },
   "file_extension": ".py",
   "mimetype": "text/x-python",
   "name": "python",
   "nbconvert_exporter": "python",
   "pygments_lexer": "ipython3",
   "version": "3.10.13"
  }
 },
 "nbformat": 4,
 "nbformat_minor": 5
}
